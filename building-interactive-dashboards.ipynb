{
 "cells": [
  {
   "attachments": {},
   "cell_type": "markdown",
   "id": "ddf7cafe",
   "metadata": {
    "papermill": {
     "duration": 0.002834,
     "end_time": "2023-01-15T16:24:43.845561",
     "exception": false,
     "start_time": "2023-01-15T16:24:43.842727",
     "status": "completed"
    },
    "tags": []
   },
   "source": [
    "In this notebook, we will be creating an interactive dashboard using the Shiny library and the *iris* dataset from the R \"datasets\" package.\n",
    "\n",
    "Let's start by installing and loading the necessary libraries: Shiny and datasets. You can do this by running the following code:"
   ]
  },
  {
   "cell_type": "code",
   "execution_count": 14,
   "id": "ac5980b6",
   "metadata": {
    "execution": {
     "iopub.execute_input": "2023-01-15T16:24:43.852968Z",
     "iopub.status.busy": "2023-01-15T16:24:43.851446Z",
     "iopub.status.idle": "2023-01-15T16:24:44.147655Z",
     "shell.execute_reply": "2023-01-15T16:24:44.142316Z"
    },
    "papermill": {
     "duration": 0.302016,
     "end_time": "2023-01-15T16:24:44.149788",
     "exception": false,
     "start_time": "2023-01-15T16:24:43.847772",
     "status": "completed"
    },
    "tags": []
   },
   "outputs": [
    {
     "ename": "NameError",
     "evalue": "name 'library' is not defined",
     "output_type": "error",
     "traceback": [
      "\u001b[0;31m---------------------------------------------------------------------------\u001b[0m",
      "\u001b[0;31mNameError\u001b[0m                                 Traceback (most recent call last)",
      "Cell \u001b[0;32mIn[14], line 1\u001b[0m\n\u001b[0;32m----> 1\u001b[0m library(shiny)\n\u001b[1;32m      2\u001b[0m library(datasets)\n",
      "\u001b[0;31mNameError\u001b[0m: name 'library' is not defined"
     ]
    }
   ],
   "source": [
    "library(shiny)\n",
    "library(datasets)"
   ]
  },
  {
   "cell_type": "markdown",
   "id": "ebc02040",
   "metadata": {
    "papermill": {
     "duration": 0.002058,
     "end_time": "2023-01-15T16:24:44.154053",
     "exception": false,
     "start_time": "2023-01-15T16:24:44.151995",
     "status": "completed"
    },
    "tags": []
   },
   "source": [
    "Next, we will use the iris dataset from the datasets package."
   ]
  },
  {
   "cell_type": "code",
   "execution_count": 13,
   "id": "5c3e9c20",
   "metadata": {
    "execution": {
     "iopub.execute_input": "2023-01-15T16:24:44.180619Z",
     "iopub.status.busy": "2023-01-15T16:24:44.158998Z",
     "iopub.status.idle": "2023-01-15T16:24:44.191303Z",
     "shell.execute_reply": "2023-01-15T16:24:44.190144Z"
    },
    "papermill": {
     "duration": 0.040021,
     "end_time": "2023-01-15T16:24:44.196059",
     "exception": false,
     "start_time": "2023-01-15T16:24:44.156038",
     "status": "completed"
    },
    "tags": []
   },
   "outputs": [
    {
     "ename": "NameError",
     "evalue": "name 'data' is not defined",
     "output_type": "error",
     "traceback": [
      "\u001b[0;31m---------------------------------------------------------------------------\u001b[0m",
      "\u001b[0;31mNameError\u001b[0m                                 Traceback (most recent call last)",
      "Cell \u001b[0;32mIn[13], line 1\u001b[0m\n\u001b[0;32m----> 1\u001b[0m data(\u001b[39m\"\u001b[39m\u001b[39miris\u001b[39m\u001b[39m\"\u001b[39m)\n",
      "\u001b[0;31mNameError\u001b[0m: name 'data' is not defined"
     ]
    }
   ],
   "source": [
    "data(\"iris\")"
   ]
  },
  {
   "cell_type": "markdown",
   "id": "02d2683f",
   "metadata": {
    "papermill": {
     "duration": 0.002145,
     "end_time": "2023-01-15T16:24:44.200441",
     "exception": false,
     "start_time": "2023-01-15T16:24:44.198296",
     "status": "completed"
    },
    "tags": []
   },
   "source": [
    "Now, let's define the user interface for the dashboard. We will create a select input for the user to choose a variable and a histogram to display the selected variable. Run the following code to define the UI:"
   ]
  },
  {
   "cell_type": "code",
   "execution_count": null,
   "id": "7619375a",
   "metadata": {
    "execution": {
     "iopub.execute_input": "2023-01-15T16:24:44.206626Z",
     "iopub.status.busy": "2023-01-15T16:24:44.205616Z",
     "iopub.status.idle": "2023-01-15T16:24:44.314122Z",
     "shell.execute_reply": "2023-01-15T16:24:44.312774Z"
    },
    "papermill": {
     "duration": 0.113909,
     "end_time": "2023-01-15T16:24:44.316426",
     "exception": false,
     "start_time": "2023-01-15T16:24:44.202517",
     "status": "completed"
    },
    "tags": []
   },
   "outputs": [],
   "source": [
    "ui <- fluidPage(\n",
    "  # Create a select input for the user to choose a variable\n",
    "  selectInput(\"variable\", \"Variable:\",\n",
    "              choices = c(\"Sepal.Length\" = \"Sepal.Length\",\n",
    "                         \"Sepal.Width\" = \"Sepal.Width\",\n",
    "                         \"Petal.Length\" = \"Petal.Length\",\n",
    "                         \"Petal.Width\" = \"Petal.Width\",\n",
    "                         \"Species\" = \"Species\")),\n",
    "  # Create a histogram to display the selected variable\n",
    "  plotOutput(\"histogram\")\n",
    ")"
   ]
  },
  {
   "cell_type": "markdown",
   "id": "361cb1ad",
   "metadata": {
    "papermill": {
     "duration": 0.002083,
     "end_time": "2023-01-15T16:24:44.320771",
     "exception": false,
     "start_time": "2023-01-15T16:24:44.318688",
     "status": "completed"
    },
    "tags": []
   },
   "source": [
    "Let's define the server logic for the dashboard. We will create a reactive object that returns the selected variable and use it to create the histogram of the selected variable. Run the following code to define the server:"
   ]
  },
  {
   "cell_type": "code",
   "execution_count": null,
   "id": "4589745d",
   "metadata": {
    "execution": {
     "iopub.execute_input": "2023-01-15T16:24:44.326912Z",
     "iopub.status.busy": "2023-01-15T16:24:44.325827Z",
     "iopub.status.idle": "2023-01-15T16:24:44.341884Z",
     "shell.execute_reply": "2023-01-15T16:24:44.340443Z"
    },
    "papermill": {
     "duration": 0.020841,
     "end_time": "2023-01-15T16:24:44.343644",
     "exception": false,
     "start_time": "2023-01-15T16:24:44.322803",
     "status": "completed"
    },
    "tags": []
   },
   "outputs": [],
   "source": [
    "server <- function(input, output) {\n",
    "  # Create a reactive object that returns the selected variable\n",
    "  variable <- reactive({\n",
    "    iris[, input$variable]\n",
    "  })\n",
    "\n",
    "  # Create the histogram with the selected variable\n",
    "  output$histogram <- renderPlot({\n",
    "    hist(variable(), main = input$variable)\n",
    "  })\n",
    "}"
   ]
  },
  {
   "cell_type": "markdown",
   "id": "82582993",
   "metadata": {
    "papermill": {
     "duration": 0.002131,
     "end_time": "2023-01-15T16:24:44.348275",
     "exception": false,
     "start_time": "2023-01-15T16:24:44.346144",
     "status": "completed"
    },
    "tags": []
   },
   "source": [
    "Finally, we will create the dashboard by running the following code:"
   ]
  },
  {
   "cell_type": "code",
   "execution_count": null,
   "id": "9030253d",
   "metadata": {
    "execution": {
     "iopub.execute_input": "2023-01-15T16:24:44.355443Z",
     "iopub.status.busy": "2023-01-15T16:24:44.354086Z",
     "iopub.status.idle": "2023-01-15T16:24:44.364544Z",
     "shell.execute_reply": "2023-01-15T16:24:44.363297Z"
    },
    "papermill": {
     "duration": 0.01631,
     "end_time": "2023-01-15T16:24:44.366734",
     "exception": false,
     "start_time": "2023-01-15T16:24:44.350424",
     "status": "completed"
    },
    "tags": []
   },
   "outputs": [],
   "source": [
    "# Run the code below to execute and create the dashboard\n",
    "shinyApp(ui, server)"
   ]
  },
  {
   "attachments": {},
   "cell_type": "markdown",
   "id": "5a1aa5d0",
   "metadata": {
    "papermill": {
     "duration": 0.00218,
     "end_time": "2023-01-15T16:24:44.371515",
     "exception": false,
     "start_time": "2023-01-15T16:24:44.369335",
     "status": "completed"
    },
    "tags": []
   },
   "source": [
    "Now, you can run the above code cells in order, and you will have your interactive dashboard. You can select a variable from the dataset and see the histogram for that variable.\n",
    "\n",
    "Keep in mind that the above code will only run on your computational environment."
   ]
  },
  {
   "attachments": {},
   "cell_type": "markdown",
   "id": "b41c32f1",
   "metadata": {},
   "source": [
    "Here's a screenshot from the output below."
   ]
  },
  {
   "attachments": {},
   "cell_type": "markdown",
   "id": "aa3374dd",
   "metadata": {},
   "source": [
    "<img src=\"iris-shiny1.png\"  width=\"600\" height=\"300\">\n",
    "<img src=\"iris-shiny2.png\"  width=\"600\" height=\"300\">"
   ]
  },
  {
   "attachments": {},
   "cell_type": "markdown",
   "id": "207066ee",
   "metadata": {},
   "source": [
    "That's it! You've just created an interactive dashboard with R and Shiny. I hope you found this notebook helpful. Feel free to experiment with the code and customize it to suit your needs."
   ]
  }
 ],
 "metadata": {
  "kernelspec": {
   "display_name": "Python 3",
   "language": "python",
   "name": "python3"
  },
  "language_info": {
   "codemirror_mode": {
    "name": "ipython",
    "version": 3
   },
   "file_extension": ".py",
   "mimetype": "text/x-python",
   "name": "python",
   "nbconvert_exporter": "python",
   "pygments_lexer": "ipython3",
   "version": "3.9.6"
  },
  "papermill": {
   "default_parameters": {},
   "duration": 3.503817,
   "end_time": "2023-01-15T16:24:44.491676",
   "environment_variables": {},
   "exception": null,
   "input_path": "__notebook__.ipynb",
   "output_path": "__notebook__.ipynb",
   "parameters": {},
   "start_time": "2023-01-15T16:24:40.987859",
   "version": "2.4.0"
  },
  "vscode": {
   "interpreter": {
    "hash": "31f2aee4e71d21fbe5cf8b01ff0e069b9275f58929596ceb00d14d90e3e16cd6"
   }
  }
 },
 "nbformat": 4,
 "nbformat_minor": 5
}
